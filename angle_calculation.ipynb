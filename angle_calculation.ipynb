{
 "cells": [
  {
   "cell_type": "code",
   "execution_count": null,
   "metadata": {},
   "outputs": [
    {
     "name": "stdout",
     "output_type": "stream",
     "text": [
      "Angle data saved to: /content/DownwardDog_AdhoMukhaShanasana_angles.csv\n"
     ]
    }
   ],
   "source": [
    "import pandas as pd\n",
    "import numpy as np\n",
    "import os\n",
    "\n",
    "import numpy as np\n",
    "\n",
    "def calculate_angle(a, b, c, epsilon=1e-6):\n",
    "    a = np.array(a)  # First point\n",
    "    b = np.array(b)  # Midpoint (joint)\n",
    "    c = np.array(c)  # Third point\n",
    "\n",
    "    ba = a - b  # Vector BA\n",
    "    bc = c - b  # Vector BC\n",
    "\n",
    "    # Compute norms and prevent division by zero\n",
    "    norm_ba = np.linalg.norm(ba) + epsilon\n",
    "    norm_bc = np.linalg.norm(bc) + epsilon\n",
    "\n",
    "    # Calculate cosine of the angle using the dot product\n",
    "    cosine_angle = np.dot(ba, bc) / (norm_ba * norm_bc)\n",
    "    angle = np.degrees(np.arccos(np.clip(cosine_angle, -1.0, 1.0)))\n",
    "\n",
    "    # If the angle is greater than 180, return (360 - angle)\n",
    "    if angle > 180:\n",
    "        angle = 360 - angle\n",
    "\n",
    "    return angle\n",
    "\n",
    "# Load existing CSV file\n",
    "input_csv_path = '/content/DownwardDog_AdhoMukhaShanasana_landmarks.csv'  # Update path if needed\n",
    "df = pd.read_csv(input_csv_path)\n",
    "\n",
    "# Define landmark triplets for angle calculations -> 18 angles, can include more afterwards according to the need\n",
    "angle_triplets = {\n",
    "    \"Left_Elbow_Angle\": [\"Left_Shoulder\", \"Left_Elbow\", \"Left_Wrist\"],\n",
    "    \"Right_Elbow_Angle\": [\"Right_Shoulder\", \"Right_Elbow\", \"Right_Wrist\"],\n",
    "    \"Left_Knee_Angle\": [\"Left_Hip\", \"Left_Knee\", \"Left_Ankle\"],\n",
    "    \"Right_Knee_Angle\": [\"Right_Hip\", \"Right_Knee\", \"Right_Ankle\"],\n",
    "    \"Left_Hip_Angle\": [\"Left_Knee\", \"Left_Hip\", \"Left_Shoulder\"],\n",
    "    \"Right_Hip_Angle\": [\"Right_Knee\", \"Right_Hip\", \"Right_Shoulder\"],\n",
    "    \"Left_Shoulder_Outer_Angle\": [\"Left_Elbow\", \"Left_Shoulder\", \"Left_Hip\"],\n",
    "    \"Right_Shoulder_Outer_Angle\": [\"Right_Elbow\", \"Right_Shoulder\", \"Right_Hip\"],\n",
    "    \"Left_Shoulder_Major_Angle\": [\"Left_Elbow\", \"Left_Shoulder\", \"Right_Shoulder\"],\n",
    "    \"Right_Shoulder_Major_Angle\": [\"Right_Elbow\", \"Right_Shoulder\", \"Left_Shoulder\"],\n",
    "    \"Right_Wrist_Angle\": [\"Right_Thumb\" , \"Right_Wrist\" , \"Right_Elbow\"],\n",
    "    \"Left_Wrist_Angle\": [\"Left_Thumb\" , \"Left_Wrist\" , \"Left_Elbow\"],\n",
    "    \"Left_Ankle_Angle\": [\"Left_Knee\", \"Left_Ankle\", \"Left_Foot_Index\"],\n",
    "    \"Right_Ankle_Angle\": [\"Right_Knee\", \"Right_Ankle\", \"Right_Foot_Index\"],\n",
    "    \"Right_Extended_Hip_Angle\": [\"Right_Shoulder\" , \"Right_Hip\" , \"Right_Ankle\"],\n",
    "    \"Left_Extended_Hip_Angle\": [\"Left_Shoulder\" , \"Left_Hip\" , \"Left_Ankle\"],\n",
    "    \"Left_Shoulder_Inner_Angle\": [\"Right_Shoulder\" , \"Left_Shoulder\" , \"Left_Hip\"],\n",
    "    \"Right_Shoulder_Inner_Angle\": [\"Left_Shoulder\" , \"Right_Shoulder\" , \"Right_Hip\"]\n",
    "}\n",
    "\n",
    "# Create a new dataframe to store angles\n",
    "angle_data = {'Image Name': df['Image Name']}\n",
    "\n",
    "# Compute angles for each image\n",
    "for angle_name, (p1, p2, p3) in angle_triplets.items():\n",
    "    angles = []\n",
    "    for i in range(len(df)):\n",
    "        try:\n",
    "            a = (df[f'{p1}_X'][i], df[f'{p1}_Y'][i])\n",
    "            b = (df[f'{p2}_X'][i], df[f'{p2}_Y'][i])\n",
    "            c = (df[f'{p3}_X'][i], df[f'{p3}_Y'][i])\n",
    "\n",
    "            angle = calculate_angle(a, b, c)\n",
    "        except KeyError:\n",
    "            angle = None  # Handle missing values\n",
    "        angles.append(angle)\n",
    "\n",
    "    angle_data[angle_name] = angles\n",
    "\n",
    "# Save new CSV file\n",
    "output_csv_path = '/content/DownwardDog_AdhoMukhaShanasana_angles.csv'\n",
    "pd.DataFrame(angle_data).to_csv(output_csv_path, index=False)\n",
    "\n",
    "print(f\"Angle data saved to: {output_csv_path}\")\n"
   ]
  },
  {
   "cell_type": "code",
   "execution_count": null,
   "metadata": {},
   "outputs": [],
   "source": [
    "!pip install tensorflow"
   ]
  },
  {
   "cell_type": "code",
   "execution_count": null,
   "metadata": {},
   "outputs": [
    {
     "name": "stdout",
     "output_type": "stream",
     "text": [
      "2.18.0\n"
     ]
    }
   ],
   "source": [
    "import tensorflow as tf\n",
    "print(tf.__version__)"
   ]
  },
  {
   "cell_type": "code",
   "execution_count": null,
   "metadata": {},
   "outputs": [],
   "source": []
  }
 ],
 "metadata": {
  "language_info": {
   "name": "python"
  }
 },
 "nbformat": 4,
 "nbformat_minor": 0
}
