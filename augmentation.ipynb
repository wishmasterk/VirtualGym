{
 "cells": [
  {
   "cell_type": "code",
   "execution_count": null,
   "metadata": {},
   "outputs": [],
   "source": [
    "import tensorflow as tf\n",
    "import os\n",
    "import numpy as np\n",
    "from tensorflow.keras.preprocessing.image import ImageDataGenerator, load_img, img_to_array, save_img\n",
    "\n",
    "# Define augmentation parameters\n",
    "datagen = ImageDataGenerator(\n",
    "    rotation_range=15,         # Rotate by up to 20 degrees\n",
    "    zoom_range=0.1,            # Zoom in/out by 20%\n",
    "    brightness_range=[0.8, 1.2],  # Adjust brightness\n",
    "    width_shift_range=0.1,   # Random horizontal shift by up to 10%\n",
    "    height_shift_range=0.1,  # Random vertical shift by up to 10%\n",
    "    shear_range=0.1,        # Shear transformations\n",
    "    fill_mode='nearest'      # How to fill empty pixels\n",
    ")\n",
    "\n",
    "# Paths\n",
    "input_folder = \"/content/WrongPose_NoPose_Train_final\"  # Change to your folder\n",
    "output_folder = \"/content/augmented_final\"\n",
    "os.makedirs(output_folder, exist_ok=True)\n",
    "count = 0\n",
    "# Process images\n",
    "for img_name in os.listdir(input_folder):\n",
    "    img_path = os.path.join(input_folder, img_name)\n",
    "\n",
    "    try:\n",
    "        # Load image and convert to array\n",
    "        image = load_img(img_path)  # PIL image\n",
    "        image_array = img_to_array(image)  # Convert to numpy array\n",
    "        image_array = np.expand_dims(image_array, axis=0)  # Add batch dimension\n",
    "\n",
    "        # Generate 4 augmented images per original image\n",
    "        aug_iter = datagen.flow(image_array, batch_size=1)\n",
    "\n",
    "        for i in range(5):  # Create 5 augmented versions\n",
    "            count+=1\n",
    "            augmented_image = next(aug_iter)[0].astype(np.uint8)  # Get augmented image\n",
    "            output_path = os.path.join(output_folder, f\"aug_{i}_{img_name}\")  # Name the file\n",
    "            save_img(output_path, augmented_image)\n",
    "\n",
    "    except Exception as e:\n",
    "        print(f\"Error processing {img_name}: {e}\")\n",
    "\n",
    "print(\"Augmentation complete. Check the 'augmented_images' folder.\")\n",
    "print(\"Total images in the output folder:\", count)\n"
   ]
  },
  {
   "cell_type": "code",
   "execution_count": null,
   "metadata": {},
   "outputs": [],
   "source": [
    "!cp -r /content/augmented_final /content/drive/MyDrive"
   ]
  }
 ],
 "metadata": {
  "language_info": {
   "name": "python"
  }
 },
 "nbformat": 4,
 "nbformat_minor": 0
}
